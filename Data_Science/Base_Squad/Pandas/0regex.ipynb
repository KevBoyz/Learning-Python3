{
 "cells": [
  {
   "cell_type": "markdown",
   "id": "87b6ebc7",
   "metadata": {},
   "source": [
    "aplicação em limpeza de dados"
   ]
  },
  {
   "cell_type": "code",
   "execution_count": 1,
   "id": "29e41208",
   "metadata": {},
   "outputs": [],
   "source": [
    "import re"
   ]
  },
  {
   "cell_type": "code",
   "execution_count": 4,
   "id": "5d8ff0ab",
   "metadata": {},
   "outputs": [
    {
     "data": {
      "text/plain": [
       "<re.Match object; span=(0, 8), match='joquinha'>"
      ]
     },
     "execution_count": 4,
     "metadata": {},
     "output_type": "execute_result"
    }
   ],
   "source": [
    "re.search('joquinha', 'joquinha baitola')"
   ]
  },
  {
   "cell_type": "code",
   "execution_count": 23,
   "id": "c05ac958",
   "metadata": {},
   "outputs": [
    {
     "data": {
      "text/plain": [
       "['Joquinha', 'Joquinha']"
      ]
     },
     "execution_count": 23,
     "metadata": {},
     "output_type": "execute_result"
    }
   ],
   "source": [
    "s = 'Joquinha é um arrombado. Joquinha é um violentado. Jaloto'\n",
    "\n",
    "re.split('Joquinha', s) ##\n",
    "re.findall('Joquinha', s)"
   ]
  },
  {
   "cell_type": "code",
   "execution_count": 43,
   "id": "483741a4",
   "metadata": {},
   "outputs": [
    {
     "data": {
      "text/plain": [
       "['Jaloto']"
      ]
     },
     "execution_count": 43,
     "metadata": {},
     "output_type": "execute_result"
    }
   ],
   "source": [
    "re.findall('J[a-z][ql]oto',s)"
   ]
  }
 ],
 "metadata": {
  "kernelspec": {
   "display_name": ".venv",
   "language": "python",
   "name": "python3"
  },
  "language_info": {
   "codemirror_mode": {
    "name": "ipython",
    "version": 3
   },
   "file_extension": ".py",
   "mimetype": "text/x-python",
   "name": "python",
   "nbconvert_exporter": "python",
   "pygments_lexer": "ipython3",
   "version": "3.12.3"
  }
 },
 "nbformat": 4,
 "nbformat_minor": 5
}
