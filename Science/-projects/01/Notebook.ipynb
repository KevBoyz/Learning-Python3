{
 "cells": [
  {
   "cell_type": "markdown",
   "id": "8d7f3bb7",
   "metadata": {},
   "source": [
    "# Opering dataframes with Pandas"
   ]
  },
  {
   "cell_type": "code",
   "execution_count": 1,
   "id": "34ab54fe",
   "metadata": {},
   "outputs": [],
   "source": [
    "import pandas as pd\n",
    "pay_base = pd.read_excel('base_pagamentos.xlsx')\n",
    "sell_base = pd.read_excel('base_vendas.xlsx')"
   ]
  },
  {
   "cell_type": "markdown",
   "id": "2ca966c8",
   "metadata": {},
   "source": [
    "# Handling 'base_pagementos'"
   ]
  },
  {
   "cell_type": "markdown",
   "id": "f895ccfe",
   "metadata": {},
   "source": [
    "## Overview"
   ]
  },
  {
   "cell_type": "code",
   "execution_count": 2,
   "id": "cbdc749d",
   "metadata": {},
   "outputs": [
    {
     "data": {
      "text/html": [
       "<div>\n",
       "<style scoped>\n",
       "    .dataframe tbody tr th:only-of-type {\n",
       "        vertical-align: middle;\n",
       "    }\n",
       "\n",
       "    .dataframe tbody tr th {\n",
       "        vertical-align: top;\n",
       "    }\n",
       "\n",
       "    .dataframe thead th {\n",
       "        text-align: right;\n",
       "    }\n",
       "</style>\n",
       "<table border=\"1\" class=\"dataframe\">\n",
       "  <thead>\n",
       "    <tr style=\"text-align: right;\">\n",
       "      <th></th>\n",
       "      <th>order_id</th>\n",
       "      <th>customer_id</th>\n",
       "      <th>order_status</th>\n",
       "      <th>order_purchase_timestamp</th>\n",
       "      <th>order_approved_at</th>\n",
       "      <th>order_delivered_carrier_date</th>\n",
       "      <th>order_delivered_customer_date</th>\n",
       "      <th>order_estimated_delivery_date</th>\n",
       "      <th>payment_sequential</th>\n",
       "      <th>payment_type</th>\n",
       "      <th>payment_installments</th>\n",
       "      <th>payment_value</th>\n",
       "    </tr>\n",
       "  </thead>\n",
       "  <tbody>\n",
       "    <tr>\n",
       "      <th>0</th>\n",
       "      <td>e481f51cbdc54678b7cc49136f2d6af7</td>\n",
       "      <td>9ef432eb6251297304e76186b10a928d</td>\n",
       "      <td>delivered</td>\n",
       "      <td>2017-10-02</td>\n",
       "      <td>2017-10-02</td>\n",
       "      <td>2017-10-04</td>\n",
       "      <td>2017-10-10</td>\n",
       "      <td>2017-10-18</td>\n",
       "      <td>1</td>\n",
       "      <td>credit_card</td>\n",
       "      <td>1</td>\n",
       "      <td>18.12</td>\n",
       "    </tr>\n",
       "    <tr>\n",
       "      <th>1</th>\n",
       "      <td>e481f51cbdc54678b7cc49136f2d6af7</td>\n",
       "      <td>9ef432eb6251297304e76186b10a928d</td>\n",
       "      <td>delivered</td>\n",
       "      <td>2017-10-02</td>\n",
       "      <td>2017-10-02</td>\n",
       "      <td>2017-10-04</td>\n",
       "      <td>2017-10-10</td>\n",
       "      <td>2017-10-18</td>\n",
       "      <td>2</td>\n",
       "      <td>voucher</td>\n",
       "      <td>1</td>\n",
       "      <td>18.59</td>\n",
       "    </tr>\n",
       "    <tr>\n",
       "      <th>2</th>\n",
       "      <td>e481f51cbdc54678b7cc49136f2d6af7</td>\n",
       "      <td>9ef432eb6251297304e76186b10a928d</td>\n",
       "      <td>delivered</td>\n",
       "      <td>2017-10-02</td>\n",
       "      <td>2017-10-02</td>\n",
       "      <td>2017-10-04</td>\n",
       "      <td>2017-10-10</td>\n",
       "      <td>2017-10-18</td>\n",
       "      <td>3</td>\n",
       "      <td>voucher</td>\n",
       "      <td>1</td>\n",
       "      <td>2.00</td>\n",
       "    </tr>\n",
       "  </tbody>\n",
       "</table>\n",
       "</div>"
      ],
      "text/plain": [
       "                           order_id                       customer_id  \\\n",
       "0  e481f51cbdc54678b7cc49136f2d6af7  9ef432eb6251297304e76186b10a928d   \n",
       "1  e481f51cbdc54678b7cc49136f2d6af7  9ef432eb6251297304e76186b10a928d   \n",
       "2  e481f51cbdc54678b7cc49136f2d6af7  9ef432eb6251297304e76186b10a928d   \n",
       "\n",
       "  order_status order_purchase_timestamp order_approved_at  \\\n",
       "0    delivered               2017-10-02        2017-10-02   \n",
       "1    delivered               2017-10-02        2017-10-02   \n",
       "2    delivered               2017-10-02        2017-10-02   \n",
       "\n",
       "  order_delivered_carrier_date order_delivered_customer_date  \\\n",
       "0                   2017-10-04                    2017-10-10   \n",
       "1                   2017-10-04                    2017-10-10   \n",
       "2                   2017-10-04                    2017-10-10   \n",
       "\n",
       "  order_estimated_delivery_date  payment_sequential payment_type  \\\n",
       "0                    2017-10-18                   1  credit_card   \n",
       "1                    2017-10-18                   2      voucher   \n",
       "2                    2017-10-18                   3      voucher   \n",
       "\n",
       "   payment_installments  payment_value  \n",
       "0                     1          18.12  \n",
       "1                     1          18.59  \n",
       "2                     1           2.00  "
      ]
     },
     "execution_count": 2,
     "metadata": {},
     "output_type": "execute_result"
    }
   ],
   "source": [
    "pay_base.head(3)"
   ]
  },
  {
   "cell_type": "code",
   "execution_count": 3,
   "id": "ba3657aa",
   "metadata": {},
   "outputs": [
    {
     "name": "stdout",
     "output_type": "stream",
     "text": [
      "<class 'pandas.core.frame.DataFrame'>\n",
      "RangeIndex: 102528 entries, 0 to 102527\n",
      "Data columns (total 12 columns):\n",
      " #   Column                         Non-Null Count   Dtype         \n",
      "---  ------                         --------------   -----         \n",
      " 0   order_id                       102528 non-null  object        \n",
      " 1   customer_id                    102528 non-null  object        \n",
      " 2   order_status                   102528 non-null  object        \n",
      " 3   order_purchase_timestamp       102528 non-null  datetime64[ns]\n",
      " 4   order_approved_at              102399 non-null  datetime64[ns]\n",
      " 5   order_delivered_carrier_date   100730 non-null  datetime64[ns]\n",
      " 6   order_delivered_customer_date  99500 non-null   datetime64[ns]\n",
      " 7   order_estimated_delivery_date  102528 non-null  datetime64[ns]\n",
      " 8   payment_sequential             102528 non-null  int64         \n",
      " 9   payment_type                   102528 non-null  object        \n",
      " 10  payment_installments           102528 non-null  int64         \n",
      " 11  payment_value                  102528 non-null  float64       \n",
      "dtypes: datetime64[ns](5), float64(1), int64(2), object(4)\n",
      "memory usage: 9.4+ MB\n"
     ]
    }
   ],
   "source": [
    "pay_base.info()"
   ]
  },
  {
   "cell_type": "code",
   "execution_count": 4,
   "id": "92ee57be",
   "metadata": {},
   "outputs": [
    {
     "data": {
      "text/html": [
       "<div>\n",
       "<style scoped>\n",
       "    .dataframe tbody tr th:only-of-type {\n",
       "        vertical-align: middle;\n",
       "    }\n",
       "\n",
       "    .dataframe tbody tr th {\n",
       "        vertical-align: top;\n",
       "    }\n",
       "\n",
       "    .dataframe thead th {\n",
       "        text-align: right;\n",
       "    }\n",
       "</style>\n",
       "<table border=\"1\" class=\"dataframe\">\n",
       "  <thead>\n",
       "    <tr style=\"text-align: right;\">\n",
       "      <th></th>\n",
       "      <th>payment_sequential</th>\n",
       "      <th>payment_installments</th>\n",
       "      <th>payment_value</th>\n",
       "    </tr>\n",
       "  </thead>\n",
       "  <tbody>\n",
       "    <tr>\n",
       "      <th>count</th>\n",
       "      <td>102528.00000</td>\n",
       "      <td>102528.000000</td>\n",
       "      <td>102528.000000</td>\n",
       "    </tr>\n",
       "    <tr>\n",
       "      <th>mean</th>\n",
       "      <td>1.09337</td>\n",
       "      <td>2.854332</td>\n",
       "      <td>154.309690</td>\n",
       "    </tr>\n",
       "    <tr>\n",
       "      <th>std</th>\n",
       "      <td>0.71027</td>\n",
       "      <td>2.686302</td>\n",
       "      <td>217.916223</td>\n",
       "    </tr>\n",
       "    <tr>\n",
       "      <th>min</th>\n",
       "      <td>1.00000</td>\n",
       "      <td>0.000000</td>\n",
       "      <td>0.000000</td>\n",
       "    </tr>\n",
       "    <tr>\n",
       "      <th>25%</th>\n",
       "      <td>1.00000</td>\n",
       "      <td>1.000000</td>\n",
       "      <td>56.860000</td>\n",
       "    </tr>\n",
       "    <tr>\n",
       "      <th>50%</th>\n",
       "      <td>1.00000</td>\n",
       "      <td>1.000000</td>\n",
       "      <td>100.000000</td>\n",
       "    </tr>\n",
       "    <tr>\n",
       "      <th>75%</th>\n",
       "      <td>1.00000</td>\n",
       "      <td>4.000000</td>\n",
       "      <td>172.080000</td>\n",
       "    </tr>\n",
       "    <tr>\n",
       "      <th>max</th>\n",
       "      <td>29.00000</td>\n",
       "      <td>24.000000</td>\n",
       "      <td>13664.080000</td>\n",
       "    </tr>\n",
       "  </tbody>\n",
       "</table>\n",
       "</div>"
      ],
      "text/plain": [
       "       payment_sequential  payment_installments  payment_value\n",
       "count        102528.00000         102528.000000  102528.000000\n",
       "mean              1.09337              2.854332     154.309690\n",
       "std               0.71027              2.686302     217.916223\n",
       "min               1.00000              0.000000       0.000000\n",
       "25%               1.00000              1.000000      56.860000\n",
       "50%               1.00000              1.000000     100.000000\n",
       "75%               1.00000              4.000000     172.080000\n",
       "max              29.00000             24.000000   13664.080000"
      ]
     },
     "execution_count": 4,
     "metadata": {},
     "output_type": "execute_result"
    }
   ],
   "source": [
    "pay_base.describe()"
   ]
  },
  {
   "cell_type": "code",
   "execution_count": 5,
   "id": "ded7e0ca",
   "metadata": {},
   "outputs": [
    {
     "data": {
      "text/plain": [
       "<AxesSubplot:>"
      ]
     },
     "execution_count": 5,
     "metadata": {},
     "output_type": "execute_result"
    },
    {
     "data": {
      "image/png": "[encoded data removed]",
      "text/plain": [
       "<Figure size 432x288 with 1 Axes>"
      ]
     },
     "metadata": {
      "needs_background": "light"
     },
     "output_type": "display_data"
    }
   ],
   "source": [
    "payment_type_count = pay_base.payment_type.value_counts()\n",
    "payment_type_total = pay_base.payment_type.count()\n",
    "percentage = round((payment_type_count/payment_type_total)*100,2)\n",
    "percentage.plot.bar()"
   ]
  },
  {
   "cell_type": "markdown",
   "id": "122799c7",
   "metadata": {},
   "source": [
    "## Removing erroneous data"
   ]
  },
  {
   "cell_type": "code",
   "execution_count": 6,
   "id": "26bd830f",
   "metadata": {},
   "outputs": [
    {
     "data": {
      "text/plain": [
       "delivered      99507\n",
       "shipped         1152\n",
       "unavailable      641\n",
       "canceled         597\n",
       "processing       317\n",
       "invoiced         307\n",
       "created            5\n",
       "approved           2\n",
       "Name: order_status, dtype: int64"
      ]
     },
     "execution_count": 6,
     "metadata": {},
     "output_type": "execute_result"
    }
   ],
   "source": [
    "pay_base.order_status.value_counts()"
   ]
  },
  {
   "cell_type": "markdown",
   "id": "f7034077",
   "metadata": {},
   "source": [
    "### Removing canceled status"
   ]
  },
  {
   "cell_type": "code",
   "execution_count": 7,
   "id": "293a049a",
   "metadata": {},
   "outputs": [],
   "source": [
    "pay_base = pay_base.drop(pay_base.loc[pay_base.order_status == 'canceled'].index)"
   ]
  },
  {
   "cell_type": "markdown",
   "id": "5ad70a01",
   "metadata": {},
   "source": [
    "### Removing (0) payment_installments"
   ]
  },
  {
   "cell_type": "code",
   "execution_count": 8,
   "id": "fbbec50f",
   "metadata": {},
   "outputs": [],
   "source": [
    "pay_base = pay_base.drop(pay_base.loc[pay_base.payment_installments == 0].index)"
   ]
  },
  {
   "cell_type": "markdown",
   "id": "42374840",
   "metadata": {},
   "source": [
    "### Removing overlining"
   ]
  },
  {
   "cell_type": "code",
   "execution_count": 9,
   "id": "9dac35e5",
   "metadata": {},
   "outputs": [
    {
     "data": {
      "text/plain": [
       "<AxesSubplot:>"
      ]
     },
     "execution_count": 9,
     "metadata": {},
     "output_type": "execute_result"
    },
    {
     "data": {
      "image/png": "[encoded data removed]",
      "text/plain": [
       "<Figure size 432x288 with 1 Axes>"
      ]
     },
     "metadata": {
      "needs_background": "light"
     },
     "output_type": "display_data"
    }
   ],
   "source": [
    "pay_base.order_purchase_timestamp.value_counts().plot()  # Black Friday 24/11"
   ]
  },
  {
   "cell_type": "code",
   "execution_count": 10,
   "id": "0736bb37",
   "metadata": {},
   "outputs": [
    {
     "data": {
      "text/plain": [
       "<AxesSubplot:>"
      ]
     },
     "execution_count": 10,
     "metadata": {},
     "output_type": "execute_result"
    },
    {
     "data": {
      "image/png": "[encoded data removed]",
      "text/plain": [
       "<Figure size 432x288 with 1 Axes>"
      ]
     },
     "metadata": {
      "needs_background": "light"
     },
     "output_type": "display_data"
    }
   ],
   "source": [
    "black_friday = pay_base[(pay_base.order_purchase_timestamp >= '2017-11-23') &\n",
    "                  (pay_base.order_purchase_timestamp <= '2017-11-25')].index\n",
    "\n",
    "pay_base = pay_base.drop(black_friday)\n",
    "pay_base.order_purchase_timestamp.value_counts().plot()"
   ]
  },
  {
   "cell_type": "markdown",
   "id": "93e6f90d",
   "metadata": {},
   "source": [
    "## Getting statistics of pay_base"
   ]
  },
  {
   "cell_type": "markdown",
   "id": "064ef4be",
   "metadata": {},
   "source": [
    "### Popularity of installments"
   ]
  },
  {
   "cell_type": "code",
   "execution_count": 11,
   "metadata": {},
   "outputs": [
    {
     "name": "stdout",
     "output_type": "stream",
     "text": [
      ":: credit card ::\n",
      "Total buys: 73798\n",
      "Total installements: 257755\n",
      "Mean installements per buy: 4\n"
     ]
    },
    {
     "data": {
      "text/plain": [
       "<AxesSubplot:ylabel='payment_installments'>"
      ]
     },
     "execution_count": 11,
     "metadata": {},
     "output_type": "execute_result"
    },
    {
     "data": {
      "image/png": "[encoded data removed]",
      "text/plain": [
       "<Figure size 432x288 with 1 Axes>"
      ]
     },
     "metadata": {},
     "output_type": "display_data"
    }
   ],
   "source": [
    "from math import ceil\n",
    "credit_card = pay_base.loc[pay_base.payment_type == 'credit_card', 'payment_installments']\n",
    "\n",
    "print(':: credit card ::')\n",
    "print(f'Total buys: {credit_card.shape[0]}')\n",
    "print(f'Total installements: {credit_card.sum()}')\n",
    "print(f'Mean installements per buy: {ceil(credit_card.mean())}')\n",
    "\n",
    "# Getting as percentage\n",
    "total = credit_card.count()\n",
    "instl = credit_card.value_counts()\n",
    "# print((instl/total) * 100)\n",
    "\n",
    "credit_card.value_counts().plot.pie()"
   ]
  },
  {
   "cell_type": "markdown",
   "id": "aafae2c8",
   "metadata": {},
   "source": [
    "### Best installment (more profitable)"
   ]
  },
  {
   "cell_type": "code",
   "execution_count": 12,
   "id": "63ee1506",
   "metadata": {},
   "outputs": [
    {
     "data": {
      "text/plain": [
       "<AxesSubplot:ylabel='payment_value'>"
      ]
     },
     "execution_count": 12,
     "metadata": {},
     "output_type": "execute_result"
    },
    {
     "data": {
      "image/png": "[encoded data removed]",
      "text/plain": [
       "<Figure size 432x288 with 1 Axes>"
      ]
     },
     "metadata": {},
     "output_type": "display_data"
    }
   ],
   "source": [
    "prof = pay_base.groupby(['payment_installments']).sum()\n",
    "prof.sort_values(by='payment_value', ascending=False)\n",
    "\n",
    "total_payment = round(prof.payment_value.sum(), 2)\n",
    "round((prof.payment_value / total_payment) * 100, 5).plot.pie()"
   ]
  },
  {
   "cell_type": "markdown",
   "id": "93703a3c",
   "metadata": {},
   "source": [
    "# Handling 'base_vendas'"
   ]
  },
  {
   "cell_type": "markdown",
   "id": "726558df",
   "metadata": {},
   "source": [
    "## Overview"
   ]
  },
  {
   "cell_type": "code",
   "execution_count": 13,
   "id": "1f76e969",
   "metadata": {},
   "outputs": [
    {
     "data": {
      "text/html": [
       "<div>\n",
       "<style scoped>\n",
       "    .dataframe tbody tr th:only-of-type {\n",
       "        vertical-align: middle;\n",
       "    }\n",
       "\n",
       "    .dataframe tbody tr th {\n",
       "        vertical-align: top;\n",
       "    }\n",
       "\n",
       "    .dataframe thead th {\n",
       "        text-align: right;\n",
       "    }\n",
       "</style>\n",
       "<table border=\"1\" class=\"dataframe\">\n",
       "  <thead>\n",
       "    <tr style=\"text-align: right;\">\n",
       "      <th></th>\n",
       "      <th>order_id</th>\n",
       "      <th>customer_id</th>\n",
       "      <th>order_status</th>\n",
       "      <th>order_purchase_timestamp</th>\n",
       "      <th>order_approved_at</th>\n",
       "      <th>order_delivered_carrier_date</th>\n",
       "      <th>order_delivered_customer_date</th>\n",
       "      <th>order_estimated_delivery_date</th>\n",
       "      <th>order_item_id</th>\n",
       "      <th>product_id</th>\n",
       "      <th>...</th>\n",
       "      <th>price</th>\n",
       "      <th>freight_value</th>\n",
       "      <th>product_category_name</th>\n",
       "      <th>customer_unique_id</th>\n",
       "      <th>customer_city</th>\n",
       "      <th>customer_state</th>\n",
       "      <th>dia_compra</th>\n",
       "      <th>mes_compra</th>\n",
       "      <th>ano_compra</th>\n",
       "      <th>ano_mes</th>\n",
       "    </tr>\n",
       "  </thead>\n",
       "  <tbody>\n",
       "    <tr>\n",
       "      <th>0</th>\n",
       "      <td>e481f51cbdc54678b7cc49136f2d6af7</td>\n",
       "      <td>9ef432eb6251297304e76186b10a928d</td>\n",
       "      <td>delivered</td>\n",
       "      <td>2017-10-02</td>\n",
       "      <td>2017-10-02</td>\n",
       "      <td>2017-10-04</td>\n",
       "      <td>2017-10-10</td>\n",
       "      <td>2017-10-18</td>\n",
       "      <td>1.0</td>\n",
       "      <td>87285b34884572647811a353c7ac498a</td>\n",
       "      <td>...</td>\n",
       "      <td>29.99</td>\n",
       "      <td>8.72</td>\n",
       "      <td>utilidades_domesticas</td>\n",
       "      <td>7c396fd4830fd04220f754e42b4e5bff</td>\n",
       "      <td>sao paulo</td>\n",
       "      <td>SP</td>\n",
       "      <td>2</td>\n",
       "      <td>10</td>\n",
       "      <td>2017</td>\n",
       "      <td>2017-10</td>\n",
       "    </tr>\n",
       "    <tr>\n",
       "      <th>1</th>\n",
       "      <td>53cdb2fc8bc7dce0b6741e2150273451</td>\n",
       "      <td>b0830fb4747a6c6d20dea0b8c802d7ef</td>\n",
       "      <td>delivered</td>\n",
       "      <td>2018-07-24</td>\n",
       "      <td>2018-07-26</td>\n",
       "      <td>2018-07-26</td>\n",
       "      <td>2018-08-07</td>\n",
       "      <td>2018-08-13</td>\n",
       "      <td>1.0</td>\n",
       "      <td>595fac2a385ac33a80bd5114aec74eb8</td>\n",
       "      <td>...</td>\n",
       "      <td>118.70</td>\n",
       "      <td>22.76</td>\n",
       "      <td>perfumaria</td>\n",
       "      <td>af07308b275d755c9edb36a90c618231</td>\n",
       "      <td>barreiras</td>\n",
       "      <td>BA</td>\n",
       "      <td>24</td>\n",
       "      <td>7</td>\n",
       "      <td>2018</td>\n",
       "      <td>2018-07</td>\n",
       "    </tr>\n",
       "    <tr>\n",
       "      <th>2</th>\n",
       "      <td>47770eb9100c2d0c44946d9cf07ec65d</td>\n",
       "      <td>41ce2a54c0b03bf3443c3d931a367089</td>\n",
       "      <td>delivered</td>\n",
       "      <td>2018-08-08</td>\n",
       "      <td>2018-08-08</td>\n",
       "      <td>2018-08-08</td>\n",
       "      <td>2018-08-17</td>\n",
       "      <td>2018-09-04</td>\n",
       "      <td>1.0</td>\n",
       "      <td>aa4383b373c6aca5d8797843e5594415</td>\n",
       "      <td>...</td>\n",
       "      <td>159.90</td>\n",
       "      <td>19.22</td>\n",
       "      <td>automotivo</td>\n",
       "      <td>3a653a41f6f9fc3d2a113cf8398680e8</td>\n",
       "      <td>vianopolis</td>\n",
       "      <td>GO</td>\n",
       "      <td>8</td>\n",
       "      <td>8</td>\n",
       "      <td>2018</td>\n",
       "      <td>2018-08</td>\n",
       "    </tr>\n",
       "  </tbody>\n",
       "</table>\n",
       "<p>3 rows × 22 columns</p>\n",
       "</div>"
      ],
      "text/plain": [
       "                           order_id                       customer_id  \\\n",
       "0  e481f51cbdc54678b7cc49136f2d6af7  9ef432eb6251297304e76186b10a928d   \n",
       "1  53cdb2fc8bc7dce0b6741e2150273451  b0830fb4747a6c6d20dea0b8c802d7ef   \n",
       "2  47770eb9100c2d0c44946d9cf07ec65d  41ce2a54c0b03bf3443c3d931a367089   \n",
       "\n",
       "  order_status order_purchase_timestamp order_approved_at  \\\n",
       "0    delivered               2017-10-02        2017-10-02   \n",
       "1    delivered               2018-07-24        2018-07-26   \n",
       "2    delivered               2018-08-08        2018-08-08   \n",
       "\n",
       "  order_delivered_carrier_date order_delivered_customer_date  \\\n",
       "0                   2017-10-04                    2017-10-10   \n",
       "1                   2018-07-26                    2018-08-07   \n",
       "2                   2018-08-08                    2018-08-17   \n",
       "\n",
       "  order_estimated_delivery_date  order_item_id  \\\n",
       "0                    2017-10-18            1.0   \n",
       "1                    2018-08-13            1.0   \n",
       "2                    2018-09-04            1.0   \n",
       "\n",
       "                         product_id  ...   price freight_value  \\\n",
       "0  87285b34884572647811a353c7ac498a  ...   29.99          8.72   \n",
       "1  595fac2a385ac33a80bd5114aec74eb8  ...  118.70         22.76   \n",
       "2  aa4383b373c6aca5d8797843e5594415  ...  159.90         19.22   \n",
       "\n",
       "   product_category_name                customer_unique_id customer_city  \\\n",
       "0  utilidades_domesticas  7c396fd4830fd04220f754e42b4e5bff     sao paulo   \n",
       "1             perfumaria  af07308b275d755c9edb36a90c618231     barreiras   \n",
       "2             automotivo  3a653a41f6f9fc3d2a113cf8398680e8    vianopolis   \n",
       "\n",
       "  customer_state dia_compra mes_compra  ano_compra  ano_mes  \n",
       "0             SP          2         10        2017  2017-10  \n",
       "1             BA         24          7        2018  2018-07  \n",
       "2             GO          8          8        2018  2018-08  \n",
       "\n",
       "[3 rows x 22 columns]"
      ]
     },
     "execution_count": 13,
     "metadata": {},
     "output_type": "execute_result"
    }
   ],
   "source": [
    "sell_base.head(3)"
   ]
  },
  {
   "cell_type": "code",
   "execution_count": 14,
   "id": "71003139",
   "metadata": {},
   "outputs": [
    {
     "name": "stdout",
     "output_type": "stream",
     "text": [
      "<class 'pandas.core.frame.DataFrame'>\n",
      "RangeIndex: 111923 entries, 0 to 111922\n",
      "Data columns (total 22 columns):\n",
      " #   Column                         Non-Null Count   Dtype         \n",
      "---  ------                         --------------   -----         \n",
      " 0   order_id                       111923 non-null  object        \n",
      " 1   customer_id                    111923 non-null  object        \n",
      " 2   order_status                   111923 non-null  object        \n",
      " 3   order_purchase_timestamp       111923 non-null  datetime64[ns]\n",
      " 4   order_approved_at              111808 non-null  datetime64[ns]\n",
      " 5   order_delivered_carrier_date   110050 non-null  datetime64[ns]\n",
      " 6   order_delivered_customer_date  108804 non-null  datetime64[ns]\n",
      " 7   order_estimated_delivery_date  111923 non-null  datetime64[ns]\n",
      " 8   order_item_id                  111206 non-null  float64       \n",
      " 9   product_id                     111206 non-null  object        \n",
      " 10  seller_id                      111206 non-null  object        \n",
      " 11  shipping_limit_date            111206 non-null  datetime64[ns]\n",
      " 12  price                          111206 non-null  float64       \n",
      " 13  freight_value                  111206 non-null  float64       \n",
      " 14  product_category_name          109608 non-null  object        \n",
      " 15  customer_unique_id             111923 non-null  object        \n",
      " 16  customer_city                  111923 non-null  object        \n",
      " 17  customer_state                 111923 non-null  object        \n",
      " 18  dia_compra                     111923 non-null  int64         \n",
      " 19  mes_compra                     111923 non-null  int64         \n",
      " 20  ano_compra                     111923 non-null  int64         \n",
      " 21  ano_mes                        111923 non-null  object        \n",
      "dtypes: datetime64[ns](6), float64(3), int64(3), object(10)\n",
      "memory usage: 18.8+ MB\n"
     ]
    }
   ],
   "source": [
    "sell_base.info()"
   ]
  },
  {
   "cell_type": "code",
   "execution_count": 15,
   "id": "f1f847b0",
   "metadata": {},
   "outputs": [
    {
     "data": {
      "text/html": [
       "<div>\n",
       "<style scoped>\n",
       "    .dataframe tbody tr th:only-of-type {\n",
       "        vertical-align: middle;\n",
       "    }\n",
       "\n",
       "    .dataframe tbody tr th {\n",
       "        vertical-align: top;\n",
       "    }\n",
       "\n",
       "    .dataframe thead th {\n",
       "        text-align: right;\n",
       "    }\n",
       "</style>\n",
       "<table border=\"1\" class=\"dataframe\">\n",
       "  <thead>\n",
       "    <tr style=\"text-align: right;\">\n",
       "      <th></th>\n",
       "      <th>order_item_id</th>\n",
       "      <th>price</th>\n",
       "      <th>freight_value</th>\n",
       "      <th>dia_compra</th>\n",
       "      <th>mes_compra</th>\n",
       "      <th>ano_compra</th>\n",
       "    </tr>\n",
       "  </thead>\n",
       "  <tbody>\n",
       "    <tr>\n",
       "      <th>count</th>\n",
       "      <td>111206.000000</td>\n",
       "      <td>111206.000000</td>\n",
       "      <td>111206.000000</td>\n",
       "      <td>111923.000000</td>\n",
       "      <td>111923.000000</td>\n",
       "      <td>111923.000000</td>\n",
       "    </tr>\n",
       "    <tr>\n",
       "      <th>mean</th>\n",
       "      <td>1.198020</td>\n",
       "      <td>120.845955</td>\n",
       "      <td>20.032079</td>\n",
       "      <td>15.512853</td>\n",
       "      <td>6.000670</td>\n",
       "      <td>2017.541167</td>\n",
       "    </tr>\n",
       "    <tr>\n",
       "      <th>std</th>\n",
       "      <td>0.706445</td>\n",
       "      <td>183.941756</td>\n",
       "      <td>15.847991</td>\n",
       "      <td>8.667442</td>\n",
       "      <td>3.241051</td>\n",
       "      <td>0.498305</td>\n",
       "    </tr>\n",
       "    <tr>\n",
       "      <th>min</th>\n",
       "      <td>1.000000</td>\n",
       "      <td>0.850000</td>\n",
       "      <td>0.000000</td>\n",
       "      <td>1.000000</td>\n",
       "      <td>1.000000</td>\n",
       "      <td>2017.000000</td>\n",
       "    </tr>\n",
       "    <tr>\n",
       "      <th>25%</th>\n",
       "      <td>1.000000</td>\n",
       "      <td>39.900000</td>\n",
       "      <td>13.080000</td>\n",
       "      <td>8.000000</td>\n",
       "      <td>3.000000</td>\n",
       "      <td>2017.000000</td>\n",
       "    </tr>\n",
       "    <tr>\n",
       "      <th>50%</th>\n",
       "      <td>1.000000</td>\n",
       "      <td>74.990000</td>\n",
       "      <td>16.280000</td>\n",
       "      <td>15.000000</td>\n",
       "      <td>6.000000</td>\n",
       "      <td>2018.000000</td>\n",
       "    </tr>\n",
       "    <tr>\n",
       "      <th>75%</th>\n",
       "      <td>1.000000</td>\n",
       "      <td>134.990000</td>\n",
       "      <td>21.180000</td>\n",
       "      <td>23.000000</td>\n",
       "      <td>8.000000</td>\n",
       "      <td>2018.000000</td>\n",
       "    </tr>\n",
       "    <tr>\n",
       "      <th>max</th>\n",
       "      <td>21.000000</td>\n",
       "      <td>6735.000000</td>\n",
       "      <td>409.680000</td>\n",
       "      <td>31.000000</td>\n",
       "      <td>12.000000</td>\n",
       "      <td>2018.000000</td>\n",
       "    </tr>\n",
       "  </tbody>\n",
       "</table>\n",
       "</div>"
      ],
      "text/plain": [
       "       order_item_id          price  freight_value     dia_compra  \\\n",
       "count  111206.000000  111206.000000  111206.000000  111923.000000   \n",
       "mean        1.198020     120.845955      20.032079      15.512853   \n",
       "std         0.706445     183.941756      15.847991       8.667442   \n",
       "min         1.000000       0.850000       0.000000       1.000000   \n",
       "25%         1.000000      39.900000      13.080000       8.000000   \n",
       "50%         1.000000      74.990000      16.280000      15.000000   \n",
       "75%         1.000000     134.990000      21.180000      23.000000   \n",
       "max        21.000000    6735.000000     409.680000      31.000000   \n",
       "\n",
       "          mes_compra     ano_compra  \n",
       "count  111923.000000  111923.000000  \n",
       "mean        6.000670    2017.541167  \n",
       "std         3.241051       0.498305  \n",
       "min         1.000000    2017.000000  \n",
       "25%         3.000000    2017.000000  \n",
       "50%         6.000000    2018.000000  \n",
       "75%         8.000000    2018.000000  \n",
       "max        12.000000    2018.000000  "
      ]
     },
     "execution_count": 15,
     "metadata": {},
     "output_type": "execute_result"
    }
   ],
   "source": [
    "sell_base.describe()"
   ]
  },
  {
   "cell_type": "markdown",
   "id": "b49b5441",
   "metadata": {},
   "source": [
    "## Removing erroneous data"
   ]
  },
  {
   "cell_type": "code",
   "execution_count": 16,
   "id": "be69834d",
   "metadata": {},
   "outputs": [
    {
     "data": {
      "text/plain": [
       "delivered      108811\n",
       "shipped          1171\n",
       "unavailable       601\n",
       "processing        355\n",
       "invoiced          340\n",
       "created             5\n",
       "approved            3\n",
       "Name: order_status, dtype: int64"
      ]
     },
     "execution_count": 16,
     "metadata": {},
     "output_type": "execute_result"
    }
   ],
   "source": [
    "sell_base = sell_base.drop(sell_base.loc[sell_base.order_status == 'canceled'].index)\n",
    "sell_base.order_status.value_counts()"
   ]
  },
  {
   "cell_type": "markdown",
   "id": "5edf7879",
   "metadata": {},
   "source": [
    "## Removing null prices"
   ]
  },
  {
   "cell_type": "code",
   "execution_count": 17,
   "id": "e3884cdc",
   "metadata": {},
   "outputs": [
    {
     "name": "stdout",
     "output_type": "stream",
     "text": [
      "0 Lines removed\n"
     ]
    }
   ],
   "source": [
    "initial = sell_base.price.shape[0]\n",
    "sell_base.price.dropna()\n",
    "final = sell_base.price.shape[0]\n",
    "\n",
    "print(f'{initial-final} Lines removed')"
   ]
  },
  {
   "cell_type": "markdown",
   "id": "cf6eacd3",
   "metadata": {},
   "source": [
    "## Remove overlining"
   ]
  },
  {
   "cell_type": "code",
   "execution_count": 18,
   "id": "ae29c407",
   "metadata": {},
   "outputs": [
    {
     "data": {
      "text/plain": [
       "<AxesSubplot:>"
      ]
     },
     "execution_count": 18,
     "metadata": {},
     "output_type": "execute_result"
    },
    {
     "data": {
      "image/png": "[encoded data removed]",
      "text/plain": [
       "<Figure size 432x288 with 1 Axes>"
      ]
     },
     "metadata": {
      "needs_background": "light"
     },
     "output_type": "display_data"
    }
   ],
   "source": [
    "sell_base.order_purchase_timestamp.value_counts().plot()"
   ]
  },
  {
   "cell_type": "code",
   "execution_count": 19,
   "id": "03e9193b",
   "metadata": {},
   "outputs": [
    {
     "data": {
      "text/plain": [
       "<AxesSubplot:>"
      ]
     },
     "execution_count": 19,
     "metadata": {},
     "output_type": "execute_result"
    },
    {
     "data": {
      "image/png": "[encoded data removed]",
      "text/plain": [
       "<Figure size 432x288 with 1 Axes>"
      ]
     },
     "metadata": {
      "needs_background": "light"
     },
     "output_type": "display_data"
    }
   ],
   "source": [
    "black_friday = sell_base[(sell_base.order_purchase_timestamp >= '2017-11-23') &\n",
    "                         (sell_base.order_purchase_timestamp <= '2017-11-25')].index\n",
    "sell_base = sell_base.drop(black_friday)\n",
    "sell_base.order_purchase_timestamp.value_counts().plot()"
   ]
  },
  {
   "cell_type": "markdown",
   "id": "96fe1e72",
   "metadata": {},
   "source": [
    "## Predicting sales with linear regression"
   ]
  },
  {
   "cell_type": "code",
   "execution_count": 153,
   "metadata": {},
   "outputs": [],
   "source": [
    "import numpy as np\n",
    "import matplotlib.pyplot as plt\n",
    "from sklearn.linear_model import LinearRegression\n",
    "\n",
    "X = np.linspace(1, 589, 589).reshape(-1, 1)\n",
    "y = sell_base.order_purchase_timestamp.value_counts().sort_index()"
   ]
  },
  {
   "cell_type": "code",
   "execution_count": 154,
   "id": "ed634b80",
   "metadata": {},
   "outputs": [
    {
     "name": "stdout",
     "output_type": "stream",
     "text": [
      "0.5788640445802956\n"
     ]
    }
   ],
   "source": [
    "model = LinearRegression()\n",
    "model.fit(X, y)\n",
    "print(model.score(X, y))"
   ]
  },
  {
   "cell_type": "code",
   "execution_count": 162,
   "id": "1e24a291",
   "metadata": {},
   "outputs": [
    {
     "data": {
      "image/png": "[encoded data removed]",
      "text/plain": [
       "<Figure size 432x288 with 1 Axes>"
      ]
     },
     "metadata": {
      "needs_background": "light"
     },
     "output_type": "display_data"
    }
   ],
   "source": [
    "plt.plot(sell_base.order_purchase_timestamp.value_counts().sort_index())\n",
    "plt.plot(sell_base.order_purchase_timestamp.drop_duplicates().sort_values().to_numpy().reshape(-1, 1), model.predict(X))\n",
    "plt.show()"
   ]
  },
  {
   "cell_type": "code",
   "execution_count": 199,
   "id": "fba7f221",
   "metadata": {},
   "outputs": [
    {
     "data": {
      "text/plain": [
       "[<matplotlib.lines.Line2D at 0x2221d83e670>]"
      ]
     },
     "execution_count": 199,
     "metadata": {},
     "output_type": "execute_result"
    },
    {
     "data": {
      "image/png": "[encoded data removed]",
      "text/plain": [
       "<Figure size 432x288 with 1 Axes>"
      ]
     },
     "metadata": {
      "needs_background": "light"
     },
     "output_type": "display_data"
    }
   ],
   "source": [
    "\n",
    "time = sell_base[(sell_base.order_purchase_timestamp >= '2017') &\n",
    "                         (sell_base.order_purchase_timestamp <= '2018')]\n",
    "X = np.arange(1, 13, 1).reshape(-1, 1)\n",
    "y = time.mes_compra.value_counts().sort_index().to_numpy()\n",
    "model = LinearRegression()\n",
    "model.fit(X, y)\n",
    "model.score(X, y)\n",
    "\n",
    "plt.scatter(X, y)\n",
    "plt.plot(model.predict(X))"
   ]
  }
 ],
 "metadata": {
  "kernelspec": {
   "display_name": "Python 3 (ipykernel)",
   "language": "python",
   "name": "python3"
  },
  "language_info": {
   "codemirror_mode": {
    "name": "ipython",
    "version": 3
   },
   "file_extension": ".py",
   "mimetype": "text/x-python",
   "name": "python",
   "nbconvert_exporter": "python",
   "pygments_lexer": "ipython3",
   "version": "3.9.7"
  },
  "vscode": {
   "interpreter": {
    "hash": "a2e6baf65b4912df534866df4a24f335b0ddd2a79686966292e6a89b41752c6e"
   }
  }
 },
 "nbformat": 4,
 "nbformat_minor": 5
}
