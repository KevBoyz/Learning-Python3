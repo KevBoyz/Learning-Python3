{
 "cells": [
  {
   "cell_type": "code",
   "execution_count": 257,
   "metadata": {},
   "outputs": [],
   "source": [
    "import pandas as pd\n",
    "import numpy as np\n",
    "import seaborn as sns\n",
    "import matplotlib.pyplot as plt\n",
    "from sklearn.linear_model import LogisticRegression\n",
    "from sklearn.tree import DecisionTreeClassifier\n",
    "from sklearn.naive_bayes import GaussianNB\n",
    "from sklearn.svm import SVC\n",
    "from sklearn.metrics import accuracy_score, f1_score, precision_score, recall_score\n",
    "from sklearn.feature_selection import SelectKBest\n",
    "from sklearn.model_selection import GridSearchCV\n",
    "from sklearn.preprocessing import StandardScaler, MinMaxScaler\n",
    "from IPython.display import display\n",
    "from sklearn.preprocessing import scale"
   ]
  },
  {
   "cell_type": "code",
   "execution_count": 258,
   "metadata": {},
   "outputs": [],
   "source": [
    "df = pd.read_csv('./assets/bra.csv')\n",
    "#df = df.dropna()"
   ]
  },
  {
   "cell_type": "code",
   "execution_count": 259,
   "metadata": {},
   "outputs": [
    {
     "name": "stdout",
     "output_type": "stream",
     "text": [
      "<class 'pandas.core.frame.DataFrame'>\n",
      "RangeIndex: 2279 entries, 0 to 2278\n",
      "Data columns (total 22 columns):\n",
      " #   Column   Non-Null Count  Dtype  \n",
      "---  ------   --------------  -----  \n",
      " 0   Country  2279 non-null   object \n",
      " 1   League   2279 non-null   object \n",
      " 2   game_id  2279 non-null   int64  \n",
      " 3   Season   2279 non-null   int64  \n",
      " 4   Date     2279 non-null   object \n",
      " 5   Time     2279 non-null   object \n",
      " 6   Home     2279 non-null   object \n",
      " 7   home_id  2279 non-null   int64  \n",
      " 8   Away     2279 non-null   object \n",
      " 9   Away_id  2279 non-null   int64  \n",
      " 10  HG       2279 non-null   int64  \n",
      " 11  AG       2279 non-null   int64  \n",
      " 12  Res      2279 non-null   int64  \n",
      " 13  PH       2279 non-null   float64\n",
      " 14  PD       2279 non-null   float64\n",
      " 15  PA       2279 non-null   float64\n",
      " 16  MaxH     2279 non-null   float64\n",
      " 17  MaxD     2279 non-null   float64\n",
      " 18  MaxA     2279 non-null   float64\n",
      " 19  AvgH     2279 non-null   float64\n",
      " 20  AvgD     2279 non-null   float64\n",
      " 21  AvgA     2279 non-null   float64\n",
      "dtypes: float64(9), int64(7), object(6)\n",
      "memory usage: 391.8+ KB\n"
     ]
    }
   ],
   "source": [
    "df.info()"
   ]
  },
  {
   "cell_type": "code",
   "execution_count": 260,
   "metadata": {},
   "outputs": [
    {
     "data": {
      "text/plain": [
       "\"df['result'] = [x for x in range(len(df))]\\n\\nfor c in range(len(df)):\\n    if df.gols_mandante[c] < df.gols_visitante[c]:\\n        df.result[c] = 1\\n    elif df.gols_mandante[c] > df.gols_visitante[c]:\\n        df.result[c] = 2\\n    else:\\n        df.result[c] = 0\""
      ]
     },
     "execution_count": 260,
     "metadata": {},
     "output_type": "execute_result"
    }
   ],
   "source": [
    "\"\"\"df['result'] = [x for x in range(len(df))]\n",
    "\n",
    "for c in range(len(df)):\n",
    "    if df.gols_mandante[c] < df.gols_visitante[c]:\n",
    "        df.result[c] = 1\n",
    "    elif df.gols_mandante[c] > df.gols_visitante[c]:\n",
    "        df.result[c] = 2\n",
    "    else:\n",
    "        df.result[c] = 0\"\"\""
   ]
  },
  {
   "cell_type": "code",
   "execution_count": 261,
   "metadata": {},
   "outputs": [
    {
     "data": {
      "image/png": "[encoded data removed]",
      "text/plain": [
       "<Figure size 640x480 with 1 Axes>"
      ]
     },
     "metadata": {},
     "output_type": "display_data"
    }
   ],
   "source": [
    "from collections import Counter\n",
    "\n",
    "count = Counter(df['Res'])\n",
    "\n",
    "plt.bar(count.keys(), count.values())\n",
    "plt.show()\n"
   ]
  },
  {
   "cell_type": "code",
   "execution_count": 262,
   "metadata": {},
   "outputs": [
    {
     "data": {
      "text/html": [
       "<div>\n",
       "<style scoped>\n",
       "    .dataframe tbody tr th:only-of-type {\n",
       "        vertical-align: middle;\n",
       "    }\n",
       "\n",
       "    .dataframe tbody tr th {\n",
       "        vertical-align: top;\n",
       "    }\n",
       "\n",
       "    .dataframe thead th {\n",
       "        text-align: right;\n",
       "    }\n",
       "</style>\n",
       "<table border=\"1\" class=\"dataframe\">\n",
       "  <thead>\n",
       "    <tr style=\"text-align: right;\">\n",
       "      <th></th>\n",
       "      <th>PH</th>\n",
       "      <th>PD</th>\n",
       "      <th>PA</th>\n",
       "      <th>MaxH</th>\n",
       "      <th>MaxD</th>\n",
       "      <th>MaxA</th>\n",
       "      <th>AvgH</th>\n",
       "      <th>AvgD</th>\n",
       "      <th>AvgA</th>\n",
       "    </tr>\n",
       "  </thead>\n",
       "  <tbody>\n",
       "    <tr>\n",
       "      <th>0</th>\n",
       "      <td>1.75</td>\n",
       "      <td>3.86</td>\n",
       "      <td>5.25</td>\n",
       "      <td>1.76</td>\n",
       "      <td>3.87</td>\n",
       "      <td>5.31</td>\n",
       "      <td>1.69</td>\n",
       "      <td>3.50</td>\n",
       "      <td>4.90</td>\n",
       "    </tr>\n",
       "    <tr>\n",
       "      <th>1</th>\n",
       "      <td>2.83</td>\n",
       "      <td>3.39</td>\n",
       "      <td>2.68</td>\n",
       "      <td>2.83</td>\n",
       "      <td>3.42</td>\n",
       "      <td>2.70</td>\n",
       "      <td>2.59</td>\n",
       "      <td>3.23</td>\n",
       "      <td>2.58</td>\n",
       "    </tr>\n",
       "    <tr>\n",
       "      <th>2</th>\n",
       "      <td>1.60</td>\n",
       "      <td>4.04</td>\n",
       "      <td>6.72</td>\n",
       "      <td>1.67</td>\n",
       "      <td>4.05</td>\n",
       "      <td>7.22</td>\n",
       "      <td>1.59</td>\n",
       "      <td>3.67</td>\n",
       "      <td>5.64</td>\n",
       "    </tr>\n",
       "    <tr>\n",
       "      <th>3</th>\n",
       "      <td>2.49</td>\n",
       "      <td>3.35</td>\n",
       "      <td>3.15</td>\n",
       "      <td>2.49</td>\n",
       "      <td>3.39</td>\n",
       "      <td>3.15</td>\n",
       "      <td>2.35</td>\n",
       "      <td>3.26</td>\n",
       "      <td>2.84</td>\n",
       "    </tr>\n",
       "    <tr>\n",
       "      <th>4</th>\n",
       "      <td>1.96</td>\n",
       "      <td>3.53</td>\n",
       "      <td>4.41</td>\n",
       "      <td>1.96</td>\n",
       "      <td>3.53</td>\n",
       "      <td>4.41</td>\n",
       "      <td>1.89</td>\n",
       "      <td>3.33</td>\n",
       "      <td>3.89</td>\n",
       "    </tr>\n",
       "  </tbody>\n",
       "</table>\n",
       "</div>"
      ],
      "text/plain": [
       "     PH    PD    PA  MaxH  MaxD  MaxA  AvgH  AvgD  AvgA\n",
       "0  1.75  3.86  5.25  1.76  3.87  5.31  1.69  3.50  4.90\n",
       "1  2.83  3.39  2.68  2.83  3.42  2.70  2.59  3.23  2.58\n",
       "2  1.60  4.04  6.72  1.67  4.05  7.22  1.59  3.67  5.64\n",
       "3  2.49  3.35  3.15  2.49  3.39  3.15  2.35  3.26  2.84\n",
       "4  1.96  3.53  4.41  1.96  3.53  4.41  1.89  3.33  3.89"
      ]
     },
     "execution_count": 262,
     "metadata": {},
     "output_type": "execute_result"
    }
   ],
   "source": [
    "# Pre-features\n",
    "\n",
    "features = df.drop(columns=['Res', 'Country', 'League', 'game_id', 'Season',\n",
    "                             'Date', 'Time', 'Home', 'home_id', 'Away', 'Away_id', \n",
    "                             'HG', 'AG' ], axis = 1)\n",
    "labels = df.Res\n",
    "\n",
    "features.head()"
   ]
  },
  {
   "cell_type": "code",
   "execution_count": 263,
   "metadata": {},
   "outputs": [
    {
     "name": "stdout",
     "output_type": "stream",
     "text": [
      "{'AvgH': 85.13375732019617, 'PH': 81.51748572743963, 'MaxH': 80.67054047107476, 'AvgA': 70.41347281316419, 'MaxA': 68.70262760245139, 'PA': 63.290872018071454, 'AvgD': 42.341048163891536, 'PD': 40.62018755299711, 'MaxD': 40.54491193487282}\n"
     ]
    }
   ],
   "source": [
    "# Selecionando as melhores features\n",
    "features_list = tuple(col for col in features)\n",
    "\n",
    "k_best_features = SelectKBest(k='all')\n",
    "k_best_features.fit_transform(features, labels)\n",
    "k_best_features_scores = k_best_features.scores_\n",
    "\n",
    "raw_pairs = zip(features_list, k_best_features_scores)\n",
    "ordered_pairs = tuple(reversed(sorted(raw_pairs, key=lambda x: x[1])))\n",
    "\n",
    "print(dict(ordered_pairs))\n"
   ]
  },
  {
   "cell_type": "code",
   "execution_count": 264,
   "metadata": {},
   "outputs": [
    {
     "name": "stdout",
     "output_type": "stream",
     "text": [
      "[[0.07051282 0.18913043 0.21853547 ... 0.08239095 0.15945946 0.26920093]\n",
      " [0.20897436 0.08695652 0.0715103  ... 0.22778675 0.08648649 0.08921645]\n",
      " [0.05128205 0.22826087 0.30263158 ... 0.06623586 0.20540541 0.32660978]\n",
      " ...\n",
      " [0.02307692 0.51521739 0.41647597 ... 0.03069467 0.50540541 0.48875097]\n",
      " [0.02051282 0.49130435 0.50171625 ... 0.02423263 0.51351351 0.60822343]\n",
      " [0.13717949 0.13043478 0.10526316 ... 0.15831987 0.13783784 0.14041893]]\n"
     ]
    }
   ],
   "source": [
    "# Normalização\n",
    "\n",
    "scaler = MinMaxScaler().fit(features)\n",
    "features_scale = scaler.transform(features)\n",
    "\n",
    "print(features_scale)"
   ]
  },
  {
   "cell_type": "code",
   "execution_count": 265,
   "metadata": {},
   "outputs": [
    {
     "name": "stdout",
     "output_type": "stream",
     "text": [
      "1932 223\n"
     ]
    }
   ],
   "source": [
    "#Separando o dataset em teste e treino\n",
    "\n",
    "X_train = features_scale[:1932]\n",
    "X_test = features_scale[1932:2155]\n",
    "y_train = labels[:1932]\n",
    "y_test = labels[1932:2155]\n",
    "\n",
    "print(len(X_train), len(X_test))"
   ]
  },
  {
   "cell_type": "code",
   "execution_count": 270,
   "metadata": {},
   "outputs": [
    {
     "name": "stdout",
     "output_type": "stream",
     "text": [
      "Acurácia: 0.4170403587443946\n",
      "F1: 0.4170403587443946\n"
     ]
    }
   ],
   "source": [
    "# Treinamento com regressão logística\n",
    "\n",
    "clf_LR = LogisticRegression(multi_class='multinomial', max_iter=2000)\n",
    "clf_LR.fit(X_train, y_train)\n",
    "pred = clf_LR.predict(X_test)\n",
    "\n",
    "lg_acc = accuracy_score(y_test, pred)\n",
    "f1 = f1_score(y_test, pred, average='micro')\n",
    "\n",
    "print(f'Acurácia: {lg_acc}')\n",
    "print(f'F1: {f1}')"
   ]
  },
  {
   "cell_type": "code",
   "execution_count": 271,
   "metadata": {},
   "outputs": [
    {
     "name": "stdout",
     "output_type": "stream",
     "text": [
      "      real  previsao  game_id\n",
      "2155     1         1     2156\n",
      "2156     1         1     2157\n",
      "2157     2         1     2158\n",
      "2158     1         2     2159\n",
      "2159     1         1     2160\n",
      "...    ...       ...      ...\n",
      "2274     0         1     2275\n",
      "2275     0         1     2276\n",
      "2276     1         1     2277\n",
      "2277     1         1     2278\n",
      "2278     2         1     2279\n",
      "\n",
      "[124 rows x 3 columns]\n"
     ]
    }
   ],
   "source": [
    "previsao=features_scale[2155:]\n",
    "\n",
    "game_id_full=df['game_id']\n",
    "game_id=game_id_full[2155:]\n",
    "\n",
    "res_full=df['Res']\n",
    "res=res_full[2155:]\n",
    "\n",
    "\n",
    "pred=clf_LR.predict(previsao)\n",
    "\n",
    "data=pd.DataFrame({'real': res, 'previsao':pred, 'game_id':game_id})\n",
    "\n",
    "print(data)"
   ]
  },
  {
   "cell_type": "code",
   "execution_count": 272,
   "metadata": {},
   "outputs": [
    {
     "data": {
      "text/plain": [
       "<Axes: xlabel='previsao', ylabel='real'>"
      ]
     },
     "execution_count": 272,
     "metadata": {},
     "output_type": "execute_result"
    },
    {
     "data": {
      "image/png": "[encoded data removed]",
      "text/plain": [
       "<Figure size 640x480 with 2 Axes>"
      ]
     },
     "metadata": {},
     "output_type": "display_data"
    }
   ],
   "source": [
    "data=pd.DataFrame(data,columns=['real','previsao' ])\n",
    "\n",
    "cf_matrix=pd.crosstab(data['real'], data['previsao'], rownames=['real'] , colnames=['previsao'])\n",
    "\n",
    "sns.heatmap(cf_matrix, annot=True, cmap='Blues')"
   ]
  }
 ],
 "metadata": {
  "kernelspec": {
   "display_name": "Python 3",
   "language": "python",
   "name": "python3"
  },
  "language_info": {
   "codemirror_mode": {
    "name": "ipython",
    "version": 3
   },
   "file_extension": ".py",
   "mimetype": "text/x-python",
   "name": "python",
   "nbconvert_exporter": "python",
   "pygments_lexer": "ipython3",
   "version": "3.11.0"
  }
 },
 "nbformat": 4,
 "nbformat_minor": 2
}
