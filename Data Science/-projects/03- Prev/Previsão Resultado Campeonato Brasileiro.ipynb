{
 "cells": [
  {
   "cell_type": "code",
   "execution_count": 147,
   "metadata": {},
   "outputs": [],
   "source": [
    "#importar bibliotecas\n",
    "import pandas as pd\n",
    "import numpy as np\n",
    "from sklearn.linear_model import LogisticRegression\n",
    "from sklearn.tree import DecisionTreeClassifier\n",
    "from sklearn.naive_bayes import GaussianNB\n",
    "from sklearn.svm import SVC\n",
    "from sklearn.metrics import accuracy_score , f1_score, precision_score, recall_score\n",
    "from sklearn.feature_selection import SelectKBest\n",
    "from sklearn.model_selection import  GridSearchCV\n",
    "from sklearn.preprocessing import StandardScaler, MinMaxScaler\n",
    "from IPython.display import display\n",
    "import matplotlib.pyplot as plt\n",
    "import seaborn as sns\n",
    "from sklearn.preprocessing import scale\n",
    "%matplotlib inline"
   ]
  },
  {
   "cell_type": "code",
   "execution_count": 148,
   "metadata": {},
   "outputs": [
    {
     "data": {
      "text/html": [
       "<div>\n",
       "<style scoped>\n",
       "    .dataframe tbody tr th:only-of-type {\n",
       "        vertical-align: middle;\n",
       "    }\n",
       "\n",
       "    .dataframe tbody tr th {\n",
       "        vertical-align: top;\n",
       "    }\n",
       "\n",
       "    .dataframe thead th {\n",
       "        text-align: right;\n",
       "    }\n",
       "</style>\n",
       "<table border=\"1\" class=\"dataframe\">\n",
       "  <thead>\n",
       "    <tr style=\"text-align: right;\">\n",
       "      <th></th>\n",
       "      <th>Country</th>\n",
       "      <th>League</th>\n",
       "      <th>game_id</th>\n",
       "      <th>Season</th>\n",
       "      <th>Date</th>\n",
       "      <th>Time</th>\n",
       "      <th>Home</th>\n",
       "      <th>home_id</th>\n",
       "      <th>Away</th>\n",
       "      <th>Away_id</th>\n",
       "      <th>...</th>\n",
       "      <th>Res</th>\n",
       "      <th>PH</th>\n",
       "      <th>PD</th>\n",
       "      <th>PA</th>\n",
       "      <th>MaxH</th>\n",
       "      <th>MaxD</th>\n",
       "      <th>MaxA</th>\n",
       "      <th>AvgH</th>\n",
       "      <th>AvgD</th>\n",
       "      <th>AvgA</th>\n",
       "    </tr>\n",
       "  </thead>\n",
       "  <tbody>\n",
       "    <tr>\n",
       "      <th>0</th>\n",
       "      <td>Brazil</td>\n",
       "      <td>Serie A</td>\n",
       "      <td>1</td>\n",
       "      <td>2012</td>\n",
       "      <td>19-05-12</td>\n",
       "      <td>22:30</td>\n",
       "      <td>Palmeiras</td>\n",
       "      <td>21</td>\n",
       "      <td>Portuguesa</td>\n",
       "      <td>21</td>\n",
       "      <td>...</td>\n",
       "      <td>0</td>\n",
       "      <td>1.75</td>\n",
       "      <td>3.86</td>\n",
       "      <td>5.25</td>\n",
       "      <td>1.76</td>\n",
       "      <td>3.87</td>\n",
       "      <td>5.31</td>\n",
       "      <td>1.69</td>\n",
       "      <td>3.50</td>\n",
       "      <td>4.90</td>\n",
       "    </tr>\n",
       "    <tr>\n",
       "      <th>1</th>\n",
       "      <td>Brazil</td>\n",
       "      <td>Serie A</td>\n",
       "      <td>2</td>\n",
       "      <td>2012</td>\n",
       "      <td>19-05-12</td>\n",
       "      <td>22:30</td>\n",
       "      <td>Sport Recife</td>\n",
       "      <td>27</td>\n",
       "      <td>Flamengo RJ</td>\n",
       "      <td>27</td>\n",
       "      <td>...</td>\n",
       "      <td>0</td>\n",
       "      <td>2.83</td>\n",
       "      <td>3.39</td>\n",
       "      <td>2.68</td>\n",
       "      <td>2.83</td>\n",
       "      <td>3.42</td>\n",
       "      <td>2.70</td>\n",
       "      <td>2.59</td>\n",
       "      <td>3.23</td>\n",
       "      <td>2.58</td>\n",
       "    </tr>\n",
       "    <tr>\n",
       "      <th>2</th>\n",
       "      <td>Brazil</td>\n",
       "      <td>Serie A</td>\n",
       "      <td>3</td>\n",
       "      <td>2012</td>\n",
       "      <td>20-05-12</td>\n",
       "      <td>1:00</td>\n",
       "      <td>Figueirense</td>\n",
       "      <td>13</td>\n",
       "      <td>Nautico</td>\n",
       "      <td>13</td>\n",
       "      <td>...</td>\n",
       "      <td>1</td>\n",
       "      <td>1.60</td>\n",
       "      <td>4.04</td>\n",
       "      <td>6.72</td>\n",
       "      <td>1.67</td>\n",
       "      <td>4.05</td>\n",
       "      <td>7.22</td>\n",
       "      <td>1.59</td>\n",
       "      <td>3.67</td>\n",
       "      <td>5.64</td>\n",
       "    </tr>\n",
       "    <tr>\n",
       "      <th>3</th>\n",
       "      <td>Brazil</td>\n",
       "      <td>Serie A</td>\n",
       "      <td>4</td>\n",
       "      <td>2012</td>\n",
       "      <td>20-05-12</td>\n",
       "      <td>20:00</td>\n",
       "      <td>Botafogo RJ</td>\n",
       "      <td>7</td>\n",
       "      <td>Sao Paulo</td>\n",
       "      <td>7</td>\n",
       "      <td>...</td>\n",
       "      <td>1</td>\n",
       "      <td>2.49</td>\n",
       "      <td>3.35</td>\n",
       "      <td>3.15</td>\n",
       "      <td>2.49</td>\n",
       "      <td>3.39</td>\n",
       "      <td>3.15</td>\n",
       "      <td>2.35</td>\n",
       "      <td>3.26</td>\n",
       "      <td>2.84</td>\n",
       "    </tr>\n",
       "    <tr>\n",
       "      <th>4</th>\n",
       "      <td>Brazil</td>\n",
       "      <td>Serie A</td>\n",
       "      <td>5</td>\n",
       "      <td>2012</td>\n",
       "      <td>20-05-12</td>\n",
       "      <td>20:00</td>\n",
       "      <td>Corinthians</td>\n",
       "      <td>9</td>\n",
       "      <td>Fluminense</td>\n",
       "      <td>9</td>\n",
       "      <td>...</td>\n",
       "      <td>2</td>\n",
       "      <td>1.96</td>\n",
       "      <td>3.53</td>\n",
       "      <td>4.41</td>\n",
       "      <td>1.96</td>\n",
       "      <td>3.53</td>\n",
       "      <td>4.41</td>\n",
       "      <td>1.89</td>\n",
       "      <td>3.33</td>\n",
       "      <td>3.89</td>\n",
       "    </tr>\n",
       "  </tbody>\n",
       "</table>\n",
       "<p>5 rows × 22 columns</p>\n",
       "</div>"
      ],
      "text/plain": [
       "  Country   League  game_id  Season      Date   Time          Home  home_id  \\\n",
       "0  Brazil  Serie A        1    2012  19-05-12  22:30     Palmeiras       21   \n",
       "1  Brazil  Serie A        2    2012  19-05-12  22:30  Sport Recife       27   \n",
       "2  Brazil  Serie A        3    2012  20-05-12   1:00   Figueirense       13   \n",
       "3  Brazil  Serie A        4    2012  20-05-12  20:00   Botafogo RJ        7   \n",
       "4  Brazil  Serie A        5    2012  20-05-12  20:00   Corinthians        9   \n",
       "\n",
       "          Away  Away_id  ...  Res    PH    PD    PA  MaxH  MaxD  MaxA  AvgH  \\\n",
       "0   Portuguesa       21  ...    0  1.75  3.86  5.25  1.76  3.87  5.31  1.69   \n",
       "1  Flamengo RJ       27  ...    0  2.83  3.39  2.68  2.83  3.42  2.70  2.59   \n",
       "2      Nautico       13  ...    1  1.60  4.04  6.72  1.67  4.05  7.22  1.59   \n",
       "3    Sao Paulo        7  ...    1  2.49  3.35  3.15  2.49  3.39  3.15  2.35   \n",
       "4   Fluminense        9  ...    2  1.96  3.53  4.41  1.96  3.53  4.41  1.89   \n",
       "\n",
       "   AvgD  AvgA  \n",
       "0  3.50  4.90  \n",
       "1  3.23  2.58  \n",
       "2  3.67  5.64  \n",
       "3  3.26  2.84  \n",
       "4  3.33  3.89  \n",
       "\n",
       "[5 rows x 22 columns]"
      ]
     },
     "metadata": {},
     "output_type": "display_data"
    }
   ],
   "source": [
    "#lendo o arquivo BRAS.csv\n",
    "#O arquivo utilizado foi baixado do site www.football-data.co.uk, que agrega informações de diversos campeonatos\n",
    "#ao redor do mundo.\n",
    "\n",
    "data=pd.read_csv('./assets/bra.csv')\n",
    "\n",
    "#Verificando as 5 primeiras linhas do arquivo a ser utilizado\n",
    "display(data.head())\n",
    "\n",
    "#Notes for football data\n",
    "\n",
    "#Country = país do campeonato\n",
    "#League = nome da liga\n",
    "#game_id = id do jogo\n",
    "#Season = temporada\n",
    "#date = data do jogo\n",
    "#Time = hora do jogo\n",
    "#Home = Time da casa\n",
    "#home_id = id do time da casa\n",
    "#Away = time visitante\n",
    "#Away_id =  id do time visitante\n",
    "#HG = Gols do time da casa\n",
    "#AG = Gols do time visitante\n",
    "#Res = Resultado do jogo (D=Draw, H=Home win, A=Away win)\n",
    "#PH = probablidade vitória time da casa provida pela Pinacle (casa de aposta inglesa)\n",
    "#PD = probablidade empate provida pela Pinacle (casa de aposta inglesa)\n",
    "#PA = probablidade vitória time visitante provida pela Pinacle (casa de aposta inglesa)\n",
    "#MaxH = probablidade vitória time da casa provida pela OddsPortal (casa de aposta inglesa)\n",
    "#MaxD = probablidade empate provida pela OddsPortal (casa de aposta inglesa)\n",
    "#MaxA = probablidade vitória time visitante provida pela OddsPortal (casa de aposta ingles\n",
    "#AvgH = probablidade média de vitória em casa provida pela OddsPortal (casa de aposta inglesa)\n",
    "#AvgD = probablidade média de empate provida pela OddsPortal (casa de aposta inglesa)\n",
    "#AvgA = probablidade média de vitória pelo time visitante provida pela OddsPortal (casa de aposta inglesa)\n"
   ]
  },
  {
   "cell_type": "code",
   "execution_count": 149,
   "metadata": {},
   "outputs": [
    {
     "name": "stdout",
     "output_type": "stream",
     "text": [
      "Total de jogos:  2279\n",
      "Total de colunas:  21\n",
      "Total de jogos ganhos em casa:  1133\n",
      "Total de jogos ganhos pelo visitante:  553\n",
      "Total de jogos empatados:  593\n",
      "Percentual de jogos ganhos em casa: 49.71%\n"
     ]
    }
   ],
   "source": [
    "#Explorando os dados\n",
    "#Base de dados de dos campeonatos de 2012 a 2017\n",
    "\n",
    "matches = data.shape[0]\n",
    "\n",
    "features = data.shape[1] -1 #Retirando a coluna Resultado\n",
    "\n",
    "home_win = len(data[data.Res==1])\n",
    "away_win = len(data[data.Res==2])\n",
    "draw = len(data[data.Res==0])\n",
    "val=[home_win,away_win,draw]\n",
    "\n",
    "win_rate = (float(home_win)/(matches)) *100\n",
    "\n",
    "print ('Total de jogos: ', matches)\n",
    "print ('Total de colunas: ', features)\n",
    "print ('Total de jogos ganhos em casa: ', home_win)\n",
    "print ('Total de jogos ganhos pelo visitante: ', away_win)\n",
    "print ('Total de jogos empatados: ', draw)\n",
    "print ('Percentual de jogos ganhos em casa: {:.2f}%'.format( win_rate ))\n",
    "\n",
    "#Podemos notar que o \"fator casa\" é importante , sendo que em quase 50% do jogos são ganhos pelo time da casa."
   ]
  },
  {
   "cell_type": "code",
   "execution_count": 150,
   "metadata": {},
   "outputs": [
    {
     "data": {
      "image/png": "[encoded data removed]",
      "text/plain": [
       "<Figure size 640x480 with 1 Axes>"
      ]
     },
     "metadata": {},
     "output_type": "display_data"
    }
   ],
   "source": [
    "#Visualizando os dados\n",
    "\n",
    "x = np.arange(3)\n",
    "plt.bar(x, val)\n",
    "plt.xticks(x, ('Home', 'Away', 'Draw'))\n",
    "plt.show()\n"
   ]
  },
  {
   "cell_type": "code",
   "execution_count": 151,
   "metadata": {},
   "outputs": [
    {
     "name": "stderr",
     "output_type": "stream",
     "text": [
      "C:\\Users\\Kevin\\AppData\\Local\\Temp\\ipykernel_10512\\2694302212.py:5: FutureWarning: In a future version of pandas all arguments of DataFrame.drop except for the argument 'labels' will be keyword-only.\n",
      "  num_data = data.drop(['Country','League','Season','Date','Time','Home','Away'],1)\n"
     ]
    },
    {
     "data": {
      "text/html": [
       "<div>\n",
       "<style scoped>\n",
       "    .dataframe tbody tr th:only-of-type {\n",
       "        vertical-align: middle;\n",
       "    }\n",
       "\n",
       "    .dataframe tbody tr th {\n",
       "        vertical-align: top;\n",
       "    }\n",
       "\n",
       "    .dataframe thead th {\n",
       "        text-align: right;\n",
       "    }\n",
       "</style>\n",
       "<table border=\"1\" class=\"dataframe\">\n",
       "  <thead>\n",
       "    <tr style=\"text-align: right;\">\n",
       "      <th></th>\n",
       "      <th>game_id</th>\n",
       "      <th>home_id</th>\n",
       "      <th>Away_id</th>\n",
       "      <th>HG</th>\n",
       "      <th>AG</th>\n",
       "      <th>Res</th>\n",
       "      <th>PH</th>\n",
       "      <th>PD</th>\n",
       "      <th>PA</th>\n",
       "      <th>MaxH</th>\n",
       "      <th>MaxD</th>\n",
       "      <th>MaxA</th>\n",
       "      <th>AvgH</th>\n",
       "      <th>AvgD</th>\n",
       "      <th>AvgA</th>\n",
       "    </tr>\n",
       "  </thead>\n",
       "  <tbody>\n",
       "    <tr>\n",
       "      <th>0</th>\n",
       "      <td>1</td>\n",
       "      <td>21</td>\n",
       "      <td>21</td>\n",
       "      <td>1</td>\n",
       "      <td>1</td>\n",
       "      <td>0</td>\n",
       "      <td>1.75</td>\n",
       "      <td>3.86</td>\n",
       "      <td>5.25</td>\n",
       "      <td>1.76</td>\n",
       "      <td>3.87</td>\n",
       "      <td>5.31</td>\n",
       "      <td>1.69</td>\n",
       "      <td>3.50</td>\n",
       "      <td>4.90</td>\n",
       "    </tr>\n",
       "    <tr>\n",
       "      <th>1</th>\n",
       "      <td>2</td>\n",
       "      <td>27</td>\n",
       "      <td>27</td>\n",
       "      <td>1</td>\n",
       "      <td>1</td>\n",
       "      <td>0</td>\n",
       "      <td>2.83</td>\n",
       "      <td>3.39</td>\n",
       "      <td>2.68</td>\n",
       "      <td>2.83</td>\n",
       "      <td>3.42</td>\n",
       "      <td>2.70</td>\n",
       "      <td>2.59</td>\n",
       "      <td>3.23</td>\n",
       "      <td>2.58</td>\n",
       "    </tr>\n",
       "    <tr>\n",
       "      <th>2</th>\n",
       "      <td>3</td>\n",
       "      <td>13</td>\n",
       "      <td>13</td>\n",
       "      <td>2</td>\n",
       "      <td>1</td>\n",
       "      <td>1</td>\n",
       "      <td>1.60</td>\n",
       "      <td>4.04</td>\n",
       "      <td>6.72</td>\n",
       "      <td>1.67</td>\n",
       "      <td>4.05</td>\n",
       "      <td>7.22</td>\n",
       "      <td>1.59</td>\n",
       "      <td>3.67</td>\n",
       "      <td>5.64</td>\n",
       "    </tr>\n",
       "    <tr>\n",
       "      <th>3</th>\n",
       "      <td>4</td>\n",
       "      <td>7</td>\n",
       "      <td>7</td>\n",
       "      <td>4</td>\n",
       "      <td>2</td>\n",
       "      <td>1</td>\n",
       "      <td>2.49</td>\n",
       "      <td>3.35</td>\n",
       "      <td>3.15</td>\n",
       "      <td>2.49</td>\n",
       "      <td>3.39</td>\n",
       "      <td>3.15</td>\n",
       "      <td>2.35</td>\n",
       "      <td>3.26</td>\n",
       "      <td>2.84</td>\n",
       "    </tr>\n",
       "    <tr>\n",
       "      <th>4</th>\n",
       "      <td>5</td>\n",
       "      <td>9</td>\n",
       "      <td>9</td>\n",
       "      <td>0</td>\n",
       "      <td>1</td>\n",
       "      <td>2</td>\n",
       "      <td>1.96</td>\n",
       "      <td>3.53</td>\n",
       "      <td>4.41</td>\n",
       "      <td>1.96</td>\n",
       "      <td>3.53</td>\n",
       "      <td>4.41</td>\n",
       "      <td>1.89</td>\n",
       "      <td>3.33</td>\n",
       "      <td>3.89</td>\n",
       "    </tr>\n",
       "  </tbody>\n",
       "</table>\n",
       "</div>"
      ],
      "text/plain": [
       "   game_id  home_id  Away_id  HG  AG  Res    PH    PD    PA  MaxH  MaxD  MaxA  \\\n",
       "0        1       21       21   1   1    0  1.75  3.86  5.25  1.76  3.87  5.31   \n",
       "1        2       27       27   1   1    0  2.83  3.39  2.68  2.83  3.42  2.70   \n",
       "2        3       13       13   2   1    1  1.60  4.04  6.72  1.67  4.05  7.22   \n",
       "3        4        7        7   4   2    1  2.49  3.35  3.15  2.49  3.39  3.15   \n",
       "4        5        9        9   0   1    2  1.96  3.53  4.41  1.96  3.53  4.41   \n",
       "\n",
       "   AvgH  AvgD  AvgA  \n",
       "0  1.69  3.50  4.90  \n",
       "1  2.59  3.23  2.58  \n",
       "2  1.59  3.67  5.64  \n",
       "3  2.35  3.26  2.84  \n",
       "4  1.89  3.33  3.89  "
      ]
     },
     "metadata": {},
     "output_type": "display_data"
    }
   ],
   "source": [
    "#Preparando os dados\n",
    "\n",
    "\n",
    "#Deixar somente as variáveis numericas \n",
    "num_data = data.drop(['Country','League','Season','Date','Time','Home','Away'],1)\n",
    "\n",
    "display(num_data.head())\n"
   ]
  },
  {
   "cell_type": "code",
   "execution_count": 152,
   "metadata": {},
   "outputs": [
    {
     "name": "stdout",
     "output_type": "stream",
     "text": [
      "Features\n",
      "   game_id  home_id  Away_id  HG  AG    PH    PD    PA  MaxH  MaxD  MaxA  \\\n",
      "0        1       21       21   1   1  1.75  3.86  5.25  1.76  3.87  5.31   \n",
      "1        2       27       27   1   1  2.83  3.39  2.68  2.83  3.42  2.70   \n",
      "2        3       13       13   2   1  1.60  4.04  6.72  1.67  4.05  7.22   \n",
      "3        4        7        7   4   2  2.49  3.35  3.15  2.49  3.39  3.15   \n",
      "4        5        9        9   0   1  1.96  3.53  4.41  1.96  3.53  4.41   \n",
      "\n",
      "   AvgH  AvgD  AvgA  \n",
      "0  1.69  3.50  4.90  \n",
      "1  2.59  3.23  2.58  \n",
      "2  1.59  3.67  5.64  \n",
      "3  2.35  3.26  2.84  \n",
      "4  1.89  3.33  3.89  \n",
      "=========\n",
      "Labels\n",
      "0    0\n",
      "1    0\n",
      "2    1\n",
      "3    1\n",
      "4    2\n",
      "Name: Res, dtype: int64\n"
     ]
    },
    {
     "name": "stderr",
     "output_type": "stream",
     "text": [
      "C:\\Users\\Kevin\\AppData\\Local\\Temp\\ipykernel_10512\\1752638190.py:2: FutureWarning: In a future version of pandas all arguments of DataFrame.drop except for the argument 'labels' will be keyword-only.\n",
      "  features = num_data.drop(['Res'],1)\n"
     ]
    }
   ],
   "source": [
    "#separa as features \n",
    "features = num_data.drop(['Res'],1)\n",
    "\n",
    "\n",
    "#separa as labels\n",
    "labels = num_data['Res']\n",
    "\n",
    "print('Features')\n",
    "print (features.head())\n",
    "\n",
    "print ('=========')\n",
    "\n",
    "print ('Labels')\n",
    "print (labels.head())"
   ]
  },
  {
   "cell_type": "code",
   "execution_count": 153,
   "metadata": {},
   "outputs": [
    {
     "name": "stdout",
     "output_type": "stream",
     "text": [
      "[('PA', 740.4065621193932), ('MaxH', 731.7074700471329), ('MaxD', 81.51748572743963), ('AvgD', 80.67054047107476), ('AvgH', 63.290872018071454), ('MaxA', 40.62018755299711), ('AvgA', 40.54491193487282), ('AG', 0.6533077251586757), ('PD', 0.027363118243961364), ('PH', 0.027363118243961364)]\n"
     ]
    }
   ],
   "source": [
    "#Escoolhendo as melhores features com Kbest\n",
    "\n",
    "features_list = ('HG','AG','PH','PD','PA','MaxH','MaxD','MaxA','AvgH','AvgD','AvgA')\n",
    "\n",
    "k_best_features = SelectKBest(k='all')\n",
    "k_best_features.fit_transform(features, labels)\n",
    "k_best_features_scores = k_best_features.scores_\n",
    "\n",
    "raw_pairs = zip(features_list[1:], k_best_features_scores)\n",
    "ordered_pairs = list(reversed(sorted(raw_pairs, key=lambda x: x[1])))\n",
    "\n",
    "k_best_features_final = dict(ordered_pairs[:15])\n",
    "best_features = k_best_features_final.keys()\n",
    "\n",
    "print (ordered_pairs)"
   ]
  },
  {
   "cell_type": "code",
   "execution_count": 154,
   "metadata": {},
   "outputs": [
    {
     "name": "stderr",
     "output_type": "stream",
     "text": [
      "C:\\Users\\Kevin\\AppData\\Local\\Temp\\ipykernel_10512\\1735281590.py:2: FutureWarning: In a future version of pandas all arguments of DataFrame.drop except for the argument 'labels' will be keyword-only.\n",
      "  features = num_data.drop(['Res','game_id','home_id','Away_id', 'AG','PD','PH'],1)\n"
     ]
    },
    {
     "name": "stdout",
     "output_type": "stream",
     "text": [
      "Features\n",
      "   HG    PA  MaxH  MaxD  MaxA  AvgH  AvgD  AvgA\n",
      "0   1  5.25  1.76  3.87  5.31  1.69  3.50  4.90\n",
      "1   1  2.68  2.83  3.42  2.70  2.59  3.23  2.58\n",
      "2   2  6.72  1.67  4.05  7.22  1.59  3.67  5.64\n",
      "3   4  3.15  2.49  3.39  3.15  2.35  3.26  2.84\n",
      "4   0  4.41  1.96  3.53  4.41  1.89  3.33  3.89\n",
      "=========\n",
      "Labels\n",
      "0    0\n",
      "1    0\n",
      "2    1\n",
      "3    1\n",
      "4    2\n",
      "Name: Res, dtype: int64\n"
     ]
    }
   ],
   "source": [
    "#separa as features com base nas melhores features para treinamento\n",
    "features = num_data.drop(['Res','game_id','home_id','Away_id', 'AG','PD','PH'],1)\n",
    "\n",
    "\n",
    "#separa as labels para treinamento\n",
    "labels = num_data['Res']\n",
    "\n",
    "print('Features')\n",
    "print (features.head())\n",
    "\n",
    "print ('=========')\n",
    "\n",
    "print ('Labels')\n",
    "print (labels.head())\n"
   ]
  },
  {
   "cell_type": "code",
   "execution_count": 155,
   "metadata": {},
   "outputs": [
    {
     "name": "stdout",
     "output_type": "stream",
     "text": [
      "Features:  (2279, 8)\n",
      "[[0.16666667 0.21853547 0.07060334 ... 0.08239095 0.15945946 0.26920093]\n",
      " [0.16666667 0.0715103  0.20795892 ... 0.22778675 0.08648649 0.08921645]\n",
      " [0.33333333 0.30263158 0.05905006 ... 0.06623586 0.20540541 0.32660978]\n",
      " ...\n",
      " [0.16666667 0.41647597 0.02695764 ... 0.03069467 0.50540541 0.48875097]\n",
      " [0.33333333 0.50171625 0.02439024 ... 0.02423263 0.51351351 0.60822343]\n",
      " [0.16666667 0.10526316 0.13863928 ... 0.15831987 0.13783784 0.14041893]]\n"
     ]
    }
   ],
   "source": [
    "# Normalizando os dados de entrada(features)\n",
    "\n",
    "# Gerando o novo padrão\n",
    "scaler = MinMaxScaler().fit(features)\n",
    "features_scale = scaler.transform(features)\n",
    "\n",
    "print ('Features: ',features_scale.shape)\n",
    "print (features_scale)"
   ]
  },
  {
   "cell_type": "code",
   "execution_count": 156,
   "metadata": {},
   "outputs": [
    {
     "name": "stdout",
     "output_type": "stream",
     "text": [
      "1932 1932\n",
      "223 223\n"
     ]
    }
   ],
   "source": [
    "#Separa em treinamento e teste\n",
    "#Separação manual para manter a ordem cronológica, uma vez que temos informação temporal. \n",
    "#Treino linhas [:1932]\n",
    "#Teste linhas [1932:2155]\n",
    "#previsão linhas [2155:2280]\n",
    "\n",
    "\n",
    "X_train = features_scale[:1932]\n",
    "X_test = features_scale[1932:2155]\n",
    "y_train = labels[:1932]\n",
    "y_test = labels[1932:2155]\n",
    "\n",
    "print( len(X_train), len(y_train))\n",
    "\n",
    "print( len(X_test), len(y_test))\n"
   ]
  },
  {
   "cell_type": "code",
   "execution_count": 157,
   "metadata": {},
   "outputs": [
    {
     "name": "stdout",
     "output_type": "stream",
     "text": [
      "LogisticRegression\n",
      "Acurácia LogisticRegression:0.57847533632287\n",
      "F1 Score:0.57847533632287\n"
     ]
    }
   ],
   "source": [
    "#Treinando e testando os modelos\n",
    "print ('LogisticRegression')\n",
    "\n",
    "\n",
    "clf_LR = LogisticRegression(multi_class='multinomial',max_iter=2000)\n",
    "clf_LR.fit(X_train, y_train)\n",
    "pred= clf_LR.predict(X_test)\n",
    "\n",
    "lg_acc = accuracy_score(y_test, pred)\n",
    "f1=f1_score(y_test,pred,average = 'micro')\n",
    "print ('Acurácia LogisticRegression:{}'.format(lg_acc))\n",
    "print ('F1 Score:{}'.format(f1) )"
   ]
  },
  {
   "cell_type": "code",
   "execution_count": 158,
   "metadata": {},
   "outputs": [
    {
     "name": "stdout",
     "output_type": "stream",
     "text": [
      "Acurácia LogisticRegression:0.57847533632287\n",
      "F1 Score:0.5282488231236308\n",
      "LogisticRegression(C=1, max_iter=1000)\n"
     ]
    }
   ],
   "source": [
    "#Testando LogistRegression hyper parameters\n",
    "\n",
    "param_grid = {'C': [0.001, 0.01, 0.1, 1, 10, 100, 1000] }\n",
    "\n",
    "search = GridSearchCV(LogisticRegression(max_iter=1000), param_grid)\n",
    "\n",
    "search.fit(X_train,y_train)\n",
    "clf = search.best_estimator_\n",
    "pred= clf.predict(X_test)\n",
    "lg_acc = accuracy_score(y_test, pred)\n",
    "\n",
    "\n",
    "f1=f1_score(y_test,pred,average = 'macro')\n",
    "\n",
    "print ('Acurácia LogisticRegression:{}'.format(lg_acc))\n",
    "print ('F1 Score:{}'.format(f1) )\n",
    "\n",
    "print (clf)"
   ]
  },
  {
   "cell_type": "code",
   "execution_count": 159,
   "metadata": {},
   "outputs": [
    {
     "name": "stdout",
     "output_type": "stream",
     "text": [
      "SVC\n",
      "Acurácia SVC:0.57847533632287\n",
      "F1 Score:0.57847533632287\n"
     ]
    }
   ],
   "source": [
    "#Treinando e testando os modelos\n",
    "print ('SVC')\n",
    "\n",
    "\n",
    "clf = SVC()\n",
    "clf.fit(X_train, y_train)\n",
    "pred= clf.predict(X_test)\n",
    "\n",
    "svc_acc = accuracy_score(y_test, pred)\n",
    "f1=f1_score(y_test,pred, average='micro')\n",
    "print ('Acurácia SVC:{}'.format(svc_acc))\n",
    "print ('F1 Score:{}'.format(f1) )"
   ]
  },
  {
   "cell_type": "code",
   "execution_count": 160,
   "metadata": {},
   "outputs": [
    {
     "name": "stdout",
     "output_type": "stream",
     "text": [
      "F1 Score:0.5919282511210763\n",
      "Acurácia LogisticRegression:0.5919282511210763\n",
      "SVC(C=100)\n"
     ]
    }
   ],
   "source": [
    "#Testando SVC hyper parameters\n",
    "\n",
    "param_grid = {'C': [0.001, 0.01, 0.1, 1, 10, 100, 1000] }\n",
    "\n",
    "search = GridSearchCV(SVC(), param_grid)\n",
    "\n",
    "search.fit(X_train,y_train)\n",
    "clf_SVC = search.best_estimator_\n",
    "pred= clf_SVC.predict(X_test)\n",
    "acc = accuracy_score(y_test, pred)\n",
    "\n",
    "\n",
    "f1=f1_score(y_test,pred,average = 'micro')\n",
    "\n",
    "print ('F1 Score:{}'.format(f1))\n",
    "\n",
    "print ('Acurácia LogisticRegression:{}'.format(acc))\n",
    "\n",
    "print(clf_SVC)"
   ]
  },
  {
   "cell_type": "code",
   "execution_count": 161,
   "metadata": {},
   "outputs": [
    {
     "name": "stdout",
     "output_type": "stream",
     "text": [
      "Decision Tree\n",
      "Acurácia Tree:0.4618834080717489\n",
      "F1 Score:0.43570968039053143\n"
     ]
    }
   ],
   "source": [
    "#Treinando e testando os modelos\n",
    "print ('Decision Tree')\n",
    "\n",
    "\n",
    "clf = DecisionTreeClassifier()\n",
    "clf.fit(X_train, y_train)\n",
    "pred= clf.predict(X_test)\n",
    "\n",
    "dt_acc = accuracy_score(y_test, pred)\n",
    "f1=f1_score(y_test,pred, average='macro')\n",
    "print ('Acurácia Tree:{}'.format(dt_acc))\n",
    "print ('F1 Score:{}'.format(f1) )\n",
    "\n",
    "\n",
    "n_estimators = [10, 50, 100, 200]\n",
    "max_depth = [3, 10, 20, 40]"
   ]
  },
  {
   "cell_type": "code",
   "execution_count": 162,
   "metadata": {},
   "outputs": [
    {
     "name": "stdout",
     "output_type": "stream",
     "text": [
      "Decision Tree\n",
      "Acurácia Decision Tree:0.48878923766816146\n",
      "F1 Score:0.48878923766816146\n",
      "DecisionTreeClassifier(max_depth=110, max_features=3, min_samples_leaf=5,\n",
      "                       min_samples_split=12)\n"
     ]
    }
   ],
   "source": [
    "#Testando Decision tree hyper parameters\n",
    "print ('Decision Tree')\n",
    "\n",
    "param_grid = {\n",
    "    'max_depth': [80, 90, 100, 110],\n",
    "    'max_features': [2, 3],\n",
    "    'min_samples_leaf': [3, 4, 5],\n",
    "    'min_samples_split': [8, 10, 12]\n",
    "    \n",
    "  \n",
    "}\n",
    "\n",
    "search = GridSearchCV(DecisionTreeClassifier(), param_grid)\n",
    "\n",
    "search.fit(X_train,y_train)\n",
    "clf = search.best_estimator_\n",
    "pred= clf.predict(X_test)\n",
    "dt_acc = accuracy_score(y_test, pred)\n",
    "\n",
    "\n",
    "f1=f1_score(y_test,pred,average = 'micro')\n",
    "\n",
    "print ('Acurácia Decision Tree:{}'.format(dt_acc))\n",
    "print ('F1 Score:{}'.format(f1) )\n",
    "\n",
    "print (clf)"
   ]
  },
  {
   "cell_type": "code",
   "execution_count": 163,
   "metadata": {},
   "outputs": [
    {
     "name": "stdout",
     "output_type": "stream",
     "text": [
      "Naive baeys\n",
      "Acurácia Naive baeys:0.5201793721973094\n",
      "F1 Score:0.5201793721973094\n"
     ]
    }
   ],
   "source": [
    "#Treinando e testando os modelos\n",
    "print ('Naive baeys')\n",
    "\n",
    "\n",
    "clf = GaussianNB()\n",
    "clf.fit(X_train, y_train)\n",
    "pred= clf.predict(X_test)\n",
    "\n",
    "nb_acc = accuracy_score(y_test, pred)\n",
    "f1=f1_score(y_test,pred, average='micro')\n",
    "print ('Acurácia Naive baeys:{}'.format(nb_acc))\n",
    "print ('F1 Score:{}'.format(f1) )"
   ]
  },
  {
   "cell_type": "code",
   "execution_count": 164,
   "metadata": {},
   "outputs": [
    {
     "name": "stdout",
     "output_type": "stream",
     "text": [
      "      real  previsao  game_id\n",
      "2155     1         1     2156\n",
      "2156     1         1     2157\n",
      "2157     2         2     2158\n",
      "2158     1         1     2159\n",
      "2159     1         1     2160\n",
      "...    ...       ...      ...\n",
      "2274     0         0     2275\n",
      "2275     0         0     2276\n",
      "2276     1         1     2277\n",
      "2277     1         1     2278\n",
      "2278     2         1     2279\n",
      "\n",
      "[124 rows x 3 columns]\n"
     ]
    }
   ],
   "source": [
    "#Executando a previsao\n",
    "\n",
    "previsao=features_scale[2155:]\n",
    "\n",
    "game_id_full=data['game_id']\n",
    "game_id=game_id_full[2155:]\n",
    "\n",
    "res_full=data['Res']\n",
    "res=res_full[2155:]\n",
    "\n",
    "\n",
    "pred=clf_SVC.predict(previsao)\n",
    "\n",
    "df=pd.DataFrame({'real': res, 'previsao':pred, 'game_id':game_id})\n",
    "\n",
    "print(df)"
   ]
  },
  {
   "cell_type": "code",
   "execution_count": 165,
   "metadata": {},
   "outputs": [
    {
     "data": {
      "text/plain": [
       "<Axes: xlabel='previsao', ylabel='real'>"
      ]
     },
     "execution_count": 165,
     "metadata": {},
     "output_type": "execute_result"
    },
    {
     "data": {
      "image/png": "[encoded data removed]",
      "text/plain": [
       "<Figure size 640x480 with 2 Axes>"
      ]
     },
     "metadata": {},
     "output_type": "display_data"
    }
   ],
   "source": [
    "#confusion Matrix\n",
    "\n",
    "df=pd.DataFrame(df,columns=['real','previsao' ])\n",
    "\n",
    "cf_matrix=pd.crosstab(df['real'], df['previsao'], rownames=['real'] , colnames=['previsao'])\n",
    "\n",
    "sns.heatmap(cf_matrix, annot=True, cmap='Blues')"
   ]
  },
  {
   "cell_type": "code",
   "execution_count": null,
   "metadata": {},
   "outputs": [],
   "source": []
  }
 ],
 "metadata": {
  "kernelspec": {
   "display_name": "Python 3",
   "language": "python",
   "name": "python3"
  },
  "language_info": {
   "codemirror_mode": {
    "name": "ipython",
    "version": 3
   },
   "file_extension": ".py",
   "mimetype": "text/x-python",
   "name": "python",
   "nbconvert_exporter": "python",
   "pygments_lexer": "ipython3",
   "version": "3.11.0"
  }
 },
 "nbformat": 4,
 "nbformat_minor": 4
}
